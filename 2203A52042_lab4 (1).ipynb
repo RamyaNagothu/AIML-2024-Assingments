{
  "nbformat": 4,
  "nbformat_minor": 0,
  "metadata": {
    "colab": {
      "provenance": []
    },
    "kernelspec": {
      "name": "python3",
      "display_name": "Python 3"
    },
    "language_info": {
      "name": "python"
    }
  },
  "cells": [
    {
      "cell_type": "code",
      "execution_count": 20,
      "metadata": {
        "id": "9ZkVr9cXi81e",
        "colab": {
          "base_uri": "https://localhost:8080/"
        },
        "outputId": "f90e3a6b-7424-4118-ace9-2766b676389c"
      },
      "outputs": [
        {
          "output_type": "stream",
          "name": "stdout",
          "text": [
            "The optimal value is : 4\n"
          ]
        }
      ],
      "source": [
        "def minmax(depth, node_index, maximizing_player, values):\n",
        "    if depth == 3:\n",
        "        return values[node_index]\n",
        "\n",
        "    if maximizing_player:\n",
        "        return max(minmax(depth + 1, node_index * 2, False, values),\n",
        "                   minmax(depth + 1, node_index * 2 + 1, False, values))\n",
        "    else:\n",
        "        return min(minmax(depth + 1, node_index * 2, True, values),\n",
        "                   minmax(depth + 1, node_index * 2 + 1, True, values))\n",
        "\n",
        "values = [-1 ,4 ,2 ,6 ,-3 ,-5 ,0 ,7]\n",
        "print(\"The optimal value is :\", minmax(0 ,0 ,True ,values))"
      ]
    },
    {
      "cell_type": "code",
      "source": [
        "import math\n",
        "\n",
        "def alpha_beta_pruning(depth, node_index, alpha, beta, maximizing_player, values):\n",
        "    if depth == 3:\n",
        "        return values[node_index]\n",
        "\n",
        "    if maximizing_player:\n",
        "        max_eval = -math.inf\n",
        "        for i in range(2):\n",
        "            eval = alpha_beta_pruning(depth + 1, node_index * 2 + i, alpha, beta, False, values)\n",
        "            max_eval = max(max_eval, eval)\n",
        "            alpha = max(alpha, eval)\n",
        "            if beta <= alpha:\n",
        "                break\n",
        "        return max_eval\n",
        "    else:\n",
        "        min_eval = math.inf\n",
        "        for i in range(2):\n",
        "            eval = alpha_beta_pruning(depth + 1, node_index * 2 + i, alpha, beta, True, values)\n",
        "            min_eval = min(min_eval, eval)\n",
        "            beta = min(beta, eval)\n",
        "            if beta <= alpha:\n",
        "                break\n",
        "        return min_eval\n",
        "\n",
        "values = [-1, 4, 2, 6, -3, -5, 0, 7]\n",
        "print(\"The optimal value is :\", alpha_beta_pruning(0, 0, -math.inf, math.inf, True, values))"
      ],
      "metadata": {
        "colab": {
          "base_uri": "https://localhost:8080/"
        },
        "id": "qgoLr5qgX-2U",
        "outputId": "3a34a3f0-2407-426f-b895-c2877936caa7"
      },
      "execution_count": null,
      "outputs": [
        {
          "output_type": "stream",
          "name": "stdout",
          "text": [
            "The optimal value is : 4\n"
          ]
        }
      ]
    }
  ]
}